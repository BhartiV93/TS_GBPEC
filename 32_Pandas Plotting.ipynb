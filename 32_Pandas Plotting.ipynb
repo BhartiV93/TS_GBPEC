{
 "cells": [
  {
   "cell_type": "markdown",
   "id": "protected-rhythm",
   "metadata": {},
   "source": [
    "# Pandas Plotting"
   ]
  },
  {
   "cell_type": "markdown",
   "id": "interested-international",
   "metadata": {},
   "source": [
    "Plot a Scatter Diagram using Pandas"
   ]
  },
  {
   "cell_type": "code",
   "execution_count": 1,
   "id": "floppy-mining",
   "metadata": {
    "scrolled": true
   },
   "outputs": [
    {
     "name": "stdout",
     "output_type": "stream",
     "text": [
      "   Unemployment_Rate  Stock_Index_Price\n",
      "0                6.1               1500\n",
      "1                5.8               1520\n",
      "2                5.7               1525\n",
      "3                5.7               1523\n",
      "4                5.8               1515\n",
      "5                5.6               1540\n",
      "6                5.5               1545\n",
      "7                5.3               1560\n",
      "8                5.2               1555\n",
      "9                5.2               1565\n"
     ]
    }
   ],
   "source": [
    "# Prepare the data and create the DataFrame\n",
    "\n",
    "import pandas as pd\n",
    "   \n",
    "data = {'Unemployment_Rate': [6.1,5.8,5.7,5.7,5.8,5.6,5.5,5.3,5.2,5.2],\n",
    "        'Stock_Index_Price': [1500,1520,1525,1523,1515,1540,1545,1560,1555,1565]\n",
    "       }\n",
    "  \n",
    "df = pd.DataFrame(data,columns=['Unemployment_Rate','Stock_Index_Price'])\n",
    "print (df)"
   ]
  },
  {
   "cell_type": "code",
   "execution_count": 2,
   "id": "foster-riding",
   "metadata": {},
   "outputs": [
    {
     "data": {
      "image/png": "[encoded data removed]",
      "text/plain": [
       "<Figure size 432x288 with 1 Axes>"
      ]
     },
     "metadata": {
      "needs_background": "light"
     },
     "output_type": "display_data"
    }
   ],
   "source": [
    "# Plot the DataFrame using Pandas\n",
    "\n",
    "import pandas as pd\n",
    "import matplotlib.pyplot as plt\n",
    "   \n",
    "data = {'Unemployment_Rate': [6.1,5.8,5.7,5.7,5.8,5.6,5.5,5.3,5.2,5.2],\n",
    "        'Stock_Index_Price': [1500,1520,1525,1523,1515,1540,1545,1560,1555,1565]\n",
    "       }\n",
    "  \n",
    "df = pd.DataFrame(data,columns=['Unemployment_Rate','Stock_Index_Price'])\n",
    "\n",
    "df.plot(x ='Unemployment_Rate', y='Stock_Index_Price', kind = 'scatter')\n",
    "\n",
    "plt.show()\n"
   ]
  },
  {
   "cell_type": "markdown",
   "id": "peripheral-orchestra",
   "metadata": {},
   "source": [
    "Plot a Line Chart using Pandas"
   ]
  },
  {
   "cell_type": "code",
   "execution_count": 3,
   "id": "assigned-equilibrium",
   "metadata": {},
   "outputs": [
    {
     "name": "stdout",
     "output_type": "stream",
     "text": [
      "   Year  Unemployment_Rate\n",
      "0  1920                9.8\n",
      "1  1930               12.0\n",
      "2  1940                8.0\n",
      "3  1950                7.2\n",
      "4  1960                6.9\n",
      "5  1970                7.0\n",
      "6  1980                6.5\n",
      "7  1990                6.2\n",
      "8  2000                5.5\n",
      "9  2010                6.3\n"
     ]
    }
   ],
   "source": [
    "# Prepare the data and create the DataFrame\n",
    "\n",
    "import pandas as pd\n",
    "   \n",
    "data = {'Year': [1920,1930,1940,1950,1960,1970,1980,1990,2000,2010],\n",
    "        'Unemployment_Rate': [9.8,12,8,7.2,6.9,7,6.5,6.2,5.5,6.3]\n",
    "       }\n",
    "  \n",
    "df = pd.DataFrame(data,columns=['Year','Unemployment_Rate'])\n",
    "print (df)"
   ]
  },
  {
   "cell_type": "code",
   "execution_count": 5,
   "id": "average-maker",
   "metadata": {},
   "outputs": [
    {
     "data": {
      "image/png": "[encoded data removed]",
      "text/plain": [
       "<Figure size 432x288 with 1 Axes>"
      ]
     },
     "metadata": {
      "needs_background": "light"
     },
     "output_type": "display_data"
    }
   ],
   "source": [
    "# Plot the DataFrame using Pandas\n",
    "\n",
    "import pandas as pd\n",
    "import matplotlib.pyplot as plt\n",
    "   \n",
    "data = {'Year': [1920,1930,1940,1950,1960,1970,1980,1990,2000,2010],\n",
    "        'Unemployment_Rate': [9.8,12,8,7.2,6.9,7,6.5,6.2,5.5,6.3]\n",
    "       }\n",
    "  \n",
    "df = pd.DataFrame(data,columns=['Year','Unemployment_Rate'])\n",
    "\n",
    "df.plot(x ='Year', y='Unemployment_Rate', kind = 'line')\n",
    "\n",
    "plt.show()"
   ]
  },
  {
   "cell_type": "markdown",
   "id": "fantastic-funeral",
   "metadata": {},
   "source": [
    "Plot a Bar Chart using Pandas"
   ]
  },
  {
   "cell_type": "code",
   "execution_count": 6,
   "id": "acoustic-patrick",
   "metadata": {},
   "outputs": [
    {
     "name": "stdout",
     "output_type": "stream",
     "text": [
      "   Country  GDP_Per_Capita\n",
      "0      USA           45000\n",
      "1   Canada           42000\n",
      "2  Germany           52000\n",
      "3       UK           49000\n",
      "4   France           47000\n"
     ]
    }
   ],
   "source": [
    "# Prepare the data and create the DataFrame\n",
    "\n",
    "import pandas as pd\n",
    "   \n",
    "data = {'Country': ['USA','Canada','Germany','UK','France'],\n",
    "        'GDP_Per_Capita': [45000,42000,52000,49000,47000]\n",
    "       }\n",
    "  \n",
    "df = pd.DataFrame(data,columns=['Country','GDP_Per_Capita'])\n",
    "print (df)"
   ]
  },
  {
   "cell_type": "code",
   "execution_count": 7,
   "id": "piano-smart",
   "metadata": {},
   "outputs": [
    {
     "data": {
      "image/png": "[encoded data removed]",
      "text/plain": [
       "<Figure size 432x288 with 1 Axes>"
      ]
     },
     "metadata": {
      "needs_background": "light"
     },
     "output_type": "display_data"
    }
   ],
   "source": [
    "# Plot the DataFrame using Pandas\n",
    "\n",
    "import pandas as pd\n",
    "import matplotlib.pyplot as plt\n",
    "   \n",
    "data = {'Country': ['USA','Canada','Germany','UK','France'],\n",
    "        'GDP_Per_Capita': [45000,42000,52000,49000,47000]\n",
    "       }\n",
    "  \n",
    "df = pd.DataFrame(data,columns=['Country','GDP_Per_Capita'])\n",
    "\n",
    "df.plot(x ='Country', y='GDP_Per_Capita', kind = 'bar')\n",
    "\n",
    "plt.show()"
   ]
  },
  {
   "cell_type": "markdown",
   "id": "objective-margin",
   "metadata": {},
   "source": [
    "Plot a Pie Chart using Pandas"
   ]
  },
  {
   "cell_type": "code",
   "execution_count": 8,
   "id": "patient-walter",
   "metadata": {},
   "outputs": [
    {
     "name": "stdout",
     "output_type": "stream",
     "text": [
      "                 Tasks\n",
      "Tasks Pending      300\n",
      "Tasks Ongoing      500\n",
      "Tasks Completed    700\n"
     ]
    }
   ],
   "source": [
    "# Prepare the data and create the DataFrame\n",
    "\n",
    "import pandas as pd\n",
    "\n",
    "data = {'Tasks': [300,500,700]}\n",
    "df = pd.DataFrame(data,columns=['Tasks'],index = ['Tasks Pending','Tasks Ongoing','Tasks Completed'])\n",
    "\n",
    "print (df)"
   ]
  },
  {
   "cell_type": "code",
   "execution_count": 9,
   "id": "seven-bundle",
   "metadata": {},
   "outputs": [
    {
     "data": {
      "image/png": "[encoded data removed]",
      "text/plain": [
       "<Figure size 360x360 with 1 Axes>"
      ]
     },
     "metadata": {},
     "output_type": "display_data"
    }
   ],
   "source": [
    "# Plot the DataFrame using Pandas\n",
    "\n",
    "import pandas as pd\n",
    "import matplotlib.pyplot as plt\n",
    "\n",
    "data = {'Tasks': [300,500,700]}\n",
    "df = pd.DataFrame(data,columns=['Tasks'],index = ['Tasks Pending','Tasks Ongoing','Tasks Completed'])\n",
    "\n",
    "df.plot(y='Tasks',figsize=(5, 5),autopct='%1.1f%%', startangle=90,kind='pie')\n",
    "\n",
    "plt.show()"
   ]
  },
  {
   "cell_type": "code",
   "execution_count": null,
   "id": "japanese-upset",
   "metadata": {},
   "outputs": [],
   "source": [
    "Reference: https://datatofish.com/plot-dataframe-pandas"
   ]
  }
 ],
 "metadata": {
  "kernelspec": {
   "display_name": "Python 3",
   "language": "python",
   "name": "python3"
  },
  "language_info": {
   "codemirror_mode": {
    "name": "ipython",
    "version": 3
   },
   "file_extension": ".py",
   "mimetype": "text/x-python",
   "name": "python",
   "nbconvert_exporter": "python",
   "pygments_lexer": "ipython3",
   "version": "3.8.8"
  }
 },
 "nbformat": 4,
 "nbformat_minor": 5
}

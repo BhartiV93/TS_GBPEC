{
 "cells": [
  {
   "cell_type": "markdown",
   "id": "b1771e1a",
   "metadata": {},
   "source": [
    "http://corpustext.com/reference/sentiment_afinn.html"
   ]
  },
  {
   "cell_type": "code",
   "execution_count": 79,
   "id": "9ee9544e",
   "metadata": {
    "scrolled": true
   },
   "outputs": [
    {
     "name": "stdout",
     "output_type": "stream",
     "text": [
      "Requirement already satisfied: afinn in c:\\users\\bverm\\anaconda3\\lib\\site-packages (0.1)\n"
     ]
    }
   ],
   "source": [
    "! pip install afinn"
   ]
  },
  {
   "cell_type": "code",
   "execution_count": 57,
   "id": "f84769e1",
   "metadata": {},
   "outputs": [],
   "source": [
    "from afinn import Afinn\n",
    "import pandas as pd"
   ]
  },
  {
   "cell_type": "code",
   "execution_count": 58,
   "id": "3d4a820b",
   "metadata": {},
   "outputs": [],
   "source": [
    "afn = Afinn()"
   ]
  },
  {
   "cell_type": "code",
   "execution_count": 73,
   "id": "6ad83847",
   "metadata": {},
   "outputs": [],
   "source": [
    "n = ['I am going to home','i love books',\n",
    "         'he is very kind','we had a great day','i am feeling bad']"
   ]
  },
  {
   "cell_type": "code",
   "execution_count": 74,
   "id": "bb85367b",
   "metadata": {},
   "outputs": [],
   "source": [
    "scores = [afn.score(article) for article in n]\n",
    "sentiment = ['positive' if score > 0 \n",
    "                          else 'negative' if score < 0 \n",
    "                              else 'neutral' \n",
    "                                  for score in scores]\n",
    "    "
   ]
  },
  {
   "cell_type": "code",
   "execution_count": 75,
   "id": "c5fa622e",
   "metadata": {},
   "outputs": [
    {
     "name": "stdout",
     "output_type": "stream",
     "text": [
      "                topic  scores sentiments\n",
      "0  I am going to home     0.0    neutral\n",
      "1        i love books     3.0   positive\n",
      "2     he is very kind     2.0   positive\n",
      "3  we had a great day     3.0   positive\n",
      "4    i am feeling bad    -2.0   negative\n"
     ]
    }
   ],
   "source": [
    "df = pd.DataFrame()\n",
    "df['topic'] =  n\n",
    "df['scores'] = scores\n",
    "df['sentiments'] = sentiment\n",
    "print(df)"
   ]
  },
  {
   "cell_type": "code",
   "execution_count": 78,
   "id": "b427cc4f",
   "metadata": {},
   "outputs": [
    {
     "data": {
      "text/plain": [
       "4.0"
      ]
     },
     "execution_count": 78,
     "metadata": {},
     "output_type": "execute_result"
    }
   ],
   "source": [
    "afn.score('I am feeling great')"
   ]
  },
  {
   "cell_type": "code",
   "execution_count": null,
   "id": "e217224e",
   "metadata": {},
   "outputs": [],
   "source": []
  }
 ],
 "metadata": {
  "kernelspec": {
   "display_name": "Python 3",
   "language": "python",
   "name": "python3"
  },
  "language_info": {
   "codemirror_mode": {
    "name": "ipython",
    "version": 3
   },
   "file_extension": ".py",
   "mimetype": "text/x-python",
   "name": "python",
   "nbconvert_exporter": "python",
   "pygments_lexer": "ipython3",
   "version": "3.8.8"
  }
 },
 "nbformat": 4,
 "nbformat_minor": 5
}

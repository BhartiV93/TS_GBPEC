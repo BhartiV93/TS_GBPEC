{
 "cells": [
  {
   "cell_type": "markdown",
   "metadata": {},
   "source": [
    "# Pandas"
   ]
  },
  {
   "cell_type": "markdown",
   "metadata": {},
   "source": [
    "- pandas is an open-source, BSD-licensed Python library providing high-performance, easy-to-use data structures and data analysis tools for the Python programming language.\n",
    "- pandas is built on top of NumPy library.\n",
    "- pandas is well suited for many different kinds of data:\n",
    "- Tabular data with heterogeneously-typed columns, as in an SQL table or Excel spreadsheet\n",
    "- Ordered and unordered (not necessarily fixed-frequency) time series data.\n",
    "- Arbitrary matrix data (homogeneously typed or heterogeneous) with row and column labels\n",
    "- Any other form of observational / statistical data sets. The data actually need not be labeled at all to be placed into a pandas data structure"
   ]
  },
  {
   "cell_type": "markdown",
   "metadata": {},
   "source": [
    "1 Convert list into series of elements\n",
    "==\n"
   ]
  },
  {
   "cell_type": "code",
   "execution_count": 1,
   "metadata": {},
   "outputs": [
    {
     "data": {
      "text/plain": [
       "0    21\n",
       "1    23\n",
       "2    24\n",
       "3    25\n",
       "4    26\n",
       "dtype: int64"
      ]
     },
     "execution_count": 1,
     "metadata": {},
     "output_type": "execute_result"
    }
   ],
   "source": [
    "import numpy as np\n",
    "import pandas as pd\n",
    "data_n = [21,23,24,25,26]\n",
    "pd.Series(data_n)"
   ]
  },
  {
   "cell_type": "code",
   "execution_count": 2,
   "metadata": {},
   "outputs": [
    {
     "data": {
      "text/plain": [
       "0    10\n",
       "1    20\n",
       "2    30\n",
       "3    40\n",
       "4    50\n",
       "dtype: int64"
      ]
     },
     "execution_count": 2,
     "metadata": {},
     "output_type": "execute_result"
    }
   ],
   "source": [
    "import numpy as np\n",
    "import pandas as pd\n",
    "my_data=[10,20,30,40,50]\n",
    "pd.Series(my_data)\n",
    "# convert element lists into series of elements, which have index from 0—4 \n"
   ]
  },
  {
   "cell_type": "markdown",
   "metadata": {},
   "source": [
    "2 Convert dictionary into series of elements \n",
    "=="
   ]
  },
  {
   "cell_type": "code",
   "execution_count": 3,
   "metadata": {},
   "outputs": [
    {
     "data": {
      "text/plain": [
       "a    10\n",
       "b    20\n",
       "c    30\n",
       "d    40\n",
       "dtype: int64"
      ]
     },
     "execution_count": 3,
     "metadata": {},
     "output_type": "execute_result"
    }
   ],
   "source": [
    "d={'a':10,'b':20,'c':30,'d':40}      \n",
    "#dictionary keys act as index and values with every key act as series values\n",
    "pd.Series(d)"
   ]
  },
  {
   "cell_type": "markdown",
   "metadata": {},
   "source": [
    "3 Addition of two series\n",
    "=="
   ]
  },
  {
   "cell_type": "code",
   "execution_count": 4,
   "metadata": {},
   "outputs": [
    {
     "name": "stdout",
     "output_type": "stream",
     "text": [
      "India     1\n",
      "China     2\n",
      "Nepal     3\n",
      "Russia    4\n",
      "dtype: int64\n",
      "\n",
      "\n",
      "India     1\n",
      "China     2\n",
      "Bhutan    5\n",
      "Russia    4\n",
      "dtype: int64\n"
     ]
    },
    {
     "data": {
      "text/plain": [
       "Bhutan    NaN\n",
       "China     4.0\n",
       "India     2.0\n",
       "Nepal     NaN\n",
       "Russia    8.0\n",
       "dtype: float64"
      ]
     },
     "execution_count": 4,
     "metadata": {},
     "output_type": "execute_result"
    }
   ],
   "source": [
    "ser1=pd.Series([1,2,3,4],[\"India\",\"China\",\"Nepal\",\"Russia\"])   \n",
    "#create series from 1—4 with index as country names\n",
    "print(ser1)\n",
    "\n",
    "ser2=pd.Series([1,2,5,4],[\"India\",\"China\",\"Bhutan\",\"Russia\"])\n",
    "print(\"\\n\")\n",
    "print(ser2)\n",
    "\n",
    "ser1+ser2"
   ]
  },
  {
   "cell_type": "markdown",
   "metadata": {},
   "source": [
    "4 Converting into data frame and indexing\n",
    "=="
   ]
  },
  {
   "cell_type": "code",
   "execution_count": 5,
   "metadata": {
    "scrolled": true
   },
   "outputs": [
    {
     "name": "stdout",
     "output_type": "stream",
     "text": [
      "        Name  Age\n",
      "rank1    Tom   28\n",
      "rank2   Jack   34\n",
      "rank3  Steve   29\n",
      "rank4  Ricky   42\n"
     ]
    }
   ],
   "source": [
    "data = {'Name':['Tom', 'Jack', 'Steve', 'Ricky'],'Age':[28,34,29,42]}\n",
    "\n",
    "df = pd.DataFrame((data), index=['rank1','rank2','rank3','rank4'])\n",
    "print (df)"
   ]
  },
  {
   "cell_type": "markdown",
   "metadata": {},
   "source": [
    "5 Create Dataframe & Select columns\n",
    "=="
   ]
  },
  {
   "cell_type": "code",
   "execution_count": 6,
   "metadata": {
    "scrolled": true
   },
   "outputs": [
    {
     "name": "stdout",
     "output_type": "stream",
     "text": [
      "           W         X         Y         Z\n",
      "A   1.331587  0.715279 -1.545400 -0.008384\n",
      "B   0.621336 -0.720086  0.265512  0.108549\n",
      "C   0.004291 -0.174600  0.433026  1.203037\n",
      "D  -0.965066  1.028274  0.228630  0.445138\n",
      "E. -1.136602  0.135137  1.484537 -1.079805\n",
      "\n",
      "\n",
      "A     1.331587\n",
      "B     0.621336\n",
      "C     0.004291\n",
      "D    -0.965066\n",
      "E.   -1.136602\n",
      "Name: W, dtype: float64\n",
      "\n",
      "\n"
     ]
    },
    {
     "data": {
      "text/html": [
       "<div>\n",
       "<style scoped>\n",
       "    .dataframe tbody tr th:only-of-type {\n",
       "        vertical-align: middle;\n",
       "    }\n",
       "\n",
       "    .dataframe tbody tr th {\n",
       "        vertical-align: top;\n",
       "    }\n",
       "\n",
       "    .dataframe thead th {\n",
       "        text-align: right;\n",
       "    }\n",
       "</style>\n",
       "<table border=\"1\" class=\"dataframe\">\n",
       "  <thead>\n",
       "    <tr style=\"text-align: right;\">\n",
       "      <th></th>\n",
       "      <th>W</th>\n",
       "      <th>Z</th>\n",
       "    </tr>\n",
       "  </thead>\n",
       "  <tbody>\n",
       "    <tr>\n",
       "      <th>A</th>\n",
       "      <td>1.331587</td>\n",
       "      <td>-0.008384</td>\n",
       "    </tr>\n",
       "    <tr>\n",
       "      <th>B</th>\n",
       "      <td>0.621336</td>\n",
       "      <td>0.108549</td>\n",
       "    </tr>\n",
       "    <tr>\n",
       "      <th>C</th>\n",
       "      <td>0.004291</td>\n",
       "      <td>1.203037</td>\n",
       "    </tr>\n",
       "    <tr>\n",
       "      <th>D</th>\n",
       "      <td>-0.965066</td>\n",
       "      <td>0.445138</td>\n",
       "    </tr>\n",
       "    <tr>\n",
       "      <th>E.</th>\n",
       "      <td>-1.136602</td>\n",
       "      <td>-1.079805</td>\n",
       "    </tr>\n",
       "  </tbody>\n",
       "</table>\n",
       "</div>"
      ],
      "text/plain": [
       "           W         Z\n",
       "A   1.331587 -0.008384\n",
       "B   0.621336  0.108549\n",
       "C   0.004291  1.203037\n",
       "D  -0.965066  0.445138\n",
       "E. -1.136602 -1.079805"
      ]
     },
     "execution_count": 6,
     "metadata": {},
     "output_type": "execute_result"
    }
   ],
   "source": [
    "from numpy.random import randn\n",
    "import pandas as pd\n",
    "\n",
    "np.random.seed(10)\n",
    "df=pd.DataFrame(randn(5,4),['A','B','C','D','E.'],[\"W\",\"X\",\"Y\",\"Z\"])\n",
    "\n",
    "#generate random number for 5 rows and 4 columns\n",
    "print(df)\n",
    "print(\"\\n\")\n",
    "print(df[\"W\"])\n",
    "print(\"\\n\")\n",
    "\n",
    "df[[\"W\",\"Z\"]]\n"
   ]
  },
  {
   "cell_type": "markdown",
   "metadata": {},
   "source": [
    "6 Data Manipulation: Data selection\n",
    "=="
   ]
  },
  {
   "cell_type": "code",
   "execution_count": 7,
   "metadata": {},
   "outputs": [
    {
     "name": "stdout",
     "output_type": "stream",
     "text": [
      "           X         Y         Z\n",
      "A   0.715279 -1.545400 -0.008384\n",
      "B  -0.720086  0.265512  0.108549\n",
      "C  -0.174600  0.433026  1.203037\n",
      "D   1.028274  0.228630  0.445138\n",
      "E.  0.135137  1.484537 -1.079805\n",
      "\n",
      " W    1.331587\n",
      "X    0.715279\n",
      "Y   -1.545400\n",
      "Z   -0.008384\n",
      "Name: A, dtype: float64\n",
      "\n",
      " W   -1.136602\n",
      "X    0.135137\n",
      "Y    1.484537\n",
      "Z   -1.079805\n",
      "Name: E., dtype: float64\n"
     ]
    }
   ],
   "source": [
    "df1=df.drop(\"W\",axis=1) #,inplace=True) #droping column indexed w\n",
    "print(df1)\n",
    "\n",
    "print(\"\\n\",df.loc['A'])   # fetch particular row from dataset having index ‘A’\n",
    "\n",
    "\n",
    "print(\"\\n\",df.iloc[4])     # fetch 5th row from dataset\n"
   ]
  },
  {
   "cell_type": "code",
   "execution_count": 8,
   "metadata": {},
   "outputs": [
    {
     "data": {
      "text/html": [
       "<div>\n",
       "<style scoped>\n",
       "    .dataframe tbody tr th:only-of-type {\n",
       "        vertical-align: middle;\n",
       "    }\n",
       "\n",
       "    .dataframe tbody tr th {\n",
       "        vertical-align: top;\n",
       "    }\n",
       "\n",
       "    .dataframe thead th {\n",
       "        text-align: right;\n",
       "    }\n",
       "</style>\n",
       "<table border=\"1\" class=\"dataframe\">\n",
       "  <thead>\n",
       "    <tr style=\"text-align: right;\">\n",
       "      <th></th>\n",
       "      <th>W</th>\n",
       "      <th>X</th>\n",
       "    </tr>\n",
       "  </thead>\n",
       "  <tbody>\n",
       "    <tr>\n",
       "      <th>A</th>\n",
       "      <td>1.331587</td>\n",
       "      <td>0.715279</td>\n",
       "    </tr>\n",
       "    <tr>\n",
       "      <th>B</th>\n",
       "      <td>0.621336</td>\n",
       "      <td>-0.720086</td>\n",
       "    </tr>\n",
       "  </tbody>\n",
       "</table>\n",
       "</div>"
      ],
      "text/plain": [
       "          W         X\n",
       "A  1.331587  0.715279\n",
       "B  0.621336 -0.720086"
      ]
     },
     "execution_count": 8,
     "metadata": {},
     "output_type": "execute_result"
    }
   ],
   "source": [
    "df.loc[['A','B'],['W',\"X\"]] # fetch a subset of data from given dataset\t\n"
   ]
  },
  {
   "cell_type": "code",
   "execution_count": 9,
   "metadata": {},
   "outputs": [
    {
     "name": "stdout",
     "output_type": "stream",
     "text": [
      "        W      X      Y      Z\n",
      "A    True   True  False  False\n",
      "B    True  False   True   True\n",
      "C    True  False   True   True\n",
      "D   False   True   True   True\n",
      "E.  False   True   True  False\n"
     ]
    }
   ],
   "source": [
    "print(df > 0) \n"
   ]
  },
  {
   "cell_type": "code",
   "execution_count": 10,
   "metadata": {},
   "outputs": [
    {
     "name": "stdout",
     "output_type": "stream",
     "text": [
      "           W         X         Y         Z\n",
      "A   1.331587  0.715279       NaN       NaN\n",
      "B   0.621336       NaN  0.265512  0.108549\n",
      "C   0.004291       NaN  0.433026  1.203037\n",
      "D        NaN  1.028274  0.228630  0.445138\n",
      "E.       NaN  0.135137  1.484537       NaN\n"
     ]
    }
   ],
   "source": [
    "print(df[df>0]) # fetch original values"
   ]
  },
  {
   "cell_type": "code",
   "execution_count": 11,
   "metadata": {},
   "outputs": [
    {
     "name": "stdout",
     "output_type": "stream",
     "text": [
      "          W         X         Y         Z\n",
      "A -1.977728 -1.743372  0.266070  2.384967\n",
      "B  1.123691  1.672622  0.099149  1.397996\n",
      "C -0.271248  0.613204 -0.267317 -0.549309\n",
      "D  0.132708 -0.476142  1.308473  0.195013\n",
      "E  0.400210 -0.337632  1.256472 -0.731970\n",
      "\n",
      "           W         X         Y         Z\n",
      "B  1.123691  1.672622  0.099149  1.397996\n",
      "D  0.132708 -0.476142  1.308473  0.195013\n",
      "E  0.400210 -0.337632  1.256472 -0.731970\n",
      "\n",
      "           X         Y\n",
      "B  1.672622  0.099149\n",
      "D -0.476142  1.308473\n",
      "E -0.337632  1.256472\n"
     ]
    },
    {
     "data": {
      "text/html": [
       "<div>\n",
       "<style scoped>\n",
       "    .dataframe tbody tr th:only-of-type {\n",
       "        vertical-align: middle;\n",
       "    }\n",
       "\n",
       "    .dataframe tbody tr th {\n",
       "        vertical-align: top;\n",
       "    }\n",
       "\n",
       "    .dataframe thead th {\n",
       "        text-align: right;\n",
       "    }\n",
       "</style>\n",
       "<table border=\"1\" class=\"dataframe\">\n",
       "  <thead>\n",
       "    <tr style=\"text-align: right;\">\n",
       "      <th></th>\n",
       "      <th>W</th>\n",
       "      <th>X</th>\n",
       "      <th>Y</th>\n",
       "    </tr>\n",
       "    <tr>\n",
       "      <th>Z</th>\n",
       "      <th></th>\n",
       "      <th></th>\n",
       "      <th></th>\n",
       "    </tr>\n",
       "  </thead>\n",
       "  <tbody>\n",
       "    <tr>\n",
       "      <th>2.384967</th>\n",
       "      <td>-1.977728</td>\n",
       "      <td>-1.743372</td>\n",
       "      <td>0.266070</td>\n",
       "    </tr>\n",
       "    <tr>\n",
       "      <th>1.397996</th>\n",
       "      <td>1.123691</td>\n",
       "      <td>1.672622</td>\n",
       "      <td>0.099149</td>\n",
       "    </tr>\n",
       "    <tr>\n",
       "      <th>-0.549309</th>\n",
       "      <td>-0.271248</td>\n",
       "      <td>0.613204</td>\n",
       "      <td>-0.267317</td>\n",
       "    </tr>\n",
       "    <tr>\n",
       "      <th>0.195013</th>\n",
       "      <td>0.132708</td>\n",
       "      <td>-0.476142</td>\n",
       "      <td>1.308473</td>\n",
       "    </tr>\n",
       "    <tr>\n",
       "      <th>-0.731970</th>\n",
       "      <td>0.400210</td>\n",
       "      <td>-0.337632</td>\n",
       "      <td>1.256472</td>\n",
       "    </tr>\n",
       "  </tbody>\n",
       "</table>\n",
       "</div>"
      ],
      "text/plain": [
       "                  W         X         Y\n",
       "Z                                      \n",
       " 2.384967 -1.977728 -1.743372  0.266070\n",
       " 1.397996  1.123691  1.672622  0.099149\n",
       "-0.549309 -0.271248  0.613204 -0.267317\n",
       " 0.195013  0.132708 -0.476142  1.308473\n",
       "-0.731970  0.400210 -0.337632  1.256472"
      ]
     },
     "execution_count": 11,
     "metadata": {},
     "output_type": "execute_result"
    }
   ],
   "source": [
    "df=pd.DataFrame(randn(5,4),['A','B','C','D','E'],['W','X','Y',\"Z\"])  \n",
    "print(df)\n",
    "\n",
    "print(\"\\n\",df[df['W']>0]) \n",
    "\n",
    "print(\"\\n\",df[df['W']>0][['X','Y']])\n",
    "\n",
    "\n",
    "# fetch out desired frame of X & Y from dataset, for those rows where value is more # than 0 in ‘W’ column\n",
    "\n",
    "df.reset_index()  #assign natural index\n",
    "\n",
    "df.set_index(\"Z\")    #set ‘Z’ column as index value\n"
   ]
  },
  {
   "cell_type": "markdown",
   "metadata": {},
   "source": [
    "7 Data Manipulation: Drop missing elements\n",
    "=="
   ]
  },
  {
   "cell_type": "markdown",
   "metadata": {},
   "source": [
    "## import pandas as pd\n",
    "d={'A':[1,2,np.NaN], 'B':[1,np.NaN,np.NaN],'C':[1,2,3]}     \n",
    "# np.NaN is the missing element in DataFrame\n",
    "\n",
    "df=pd.DataFrame(d)\n",
    "print(df)\n",
    "\n",
    "#print(\"\\n\",df.dropna()) #pandas would drop any row with missing value\n",
    "\n",
    "#print(df.dropna(axis=1))   \t\t#drop column with NULL value\n",
    "\n",
    "print(\"\\n\",df.dropna(thresh=1))    \t\n"
   ]
  },
  {
   "cell_type": "code",
   "execution_count": 12,
   "metadata": {},
   "outputs": [
    {
     "name": "stdout",
     "output_type": "stream",
     "text": [
      "     A    B    C    D\n",
      "0  1.0  1.0  1.0  1.0\n",
      "1  2.0  2.0  2.0  2.0\n",
      "2  NaN  3.0  3.0  3.0\n",
      "3  NaN  NaN  NaN  4.0\n",
      "4  NaN  NaN  NaN  NaN\n",
      "\n",
      "      A    B    C    D\n",
      "0  1.0  1.0  1.0  1.0\n",
      "1  2.0  2.0  2.0  2.0\n",
      "Empty DataFrame\n",
      "Columns: []\n",
      "Index: [0, 1, 2, 3, 4]\n",
      "\n",
      "      A    B    C    D\n",
      "0  1.0  1.0  1.0  1.0\n",
      "1  2.0  2.0  2.0  2.0\n",
      "\n",
      "        A      B      C      D\n",
      "0  False  False  False  False\n",
      "1  False  False  False  False\n",
      "2   True  False  False  False\n",
      "3   True   True   True  False\n",
      "4   True   True   True   True\n",
      "\n",
      "        A      B      C      D\n",
      "0   True   True   True   True\n",
      "1   True   True   True   True\n",
      "2  False   True   True   True\n",
      "3  False  False  False   True\n",
      "4  False  False  False  False\n",
      "\n",
      "      A    B    C    D\n",
      "0  1.0  1.0  1.0  1.0\n",
      "1  2.0  2.0  2.0  2.0\n",
      "2  NaN  3.0  3.0  3.0\n",
      "3  NaN  NaN  NaN  4.0\n",
      "\n",
      "      A    B    C    D\n",
      "0  1.0  1.0  1.0  1.0\n",
      "1  2.0  2.0  2.0  2.0\n",
      "2  NaN  3.0  3.0  3.0\n",
      "3  NaN  NaN  NaN  4.0\n"
     ]
    }
   ],
   "source": [
    "d={'A':[1,2,np.NaN,np.NaN,np.NaN], 'B':[1,2,3,np.NaN,np.NaN],'C':[1,2,3,np.NaN,np.NaN],'D':[1,2,3,4,np.NaN]}\n",
    "d\n",
    "df=pd.DataFrame(d) \n",
    "print(df)\n",
    "\n",
    "print(\"\\n\",df.dropna()) #pandas would drop any row with missing value\n",
    "print(df.dropna(axis=1)) #drop column with NULL value\n",
    "print(\"\\n\",df.dropna(thresh=4,axis=0))\n",
    "print(\"\\n\",df.isna()) #shows null values\n",
    "print(\"\\n\",df.notna())#shows not null values\n",
    "print(\"\\n\",df.dropna(subset=[\"D\"]))#drop the row across column D\n",
    "print(\"\\n\",df.dropna(how=\"all\")) #drop if all the values in rows or columns are NaN"
   ]
  },
  {
   "cell_type": "markdown",
   "metadata": {},
   "source": [
    "8 Data Manipulation: Filling suitable value \n",
    "=="
   ]
  },
  {
   "cell_type": "code",
   "execution_count": 13,
   "metadata": {},
   "outputs": [
    {
     "data": {
      "text/html": [
       "<div>\n",
       "<style scoped>\n",
       "    .dataframe tbody tr th:only-of-type {\n",
       "        vertical-align: middle;\n",
       "    }\n",
       "\n",
       "    .dataframe tbody tr th {\n",
       "        vertical-align: top;\n",
       "    }\n",
       "\n",
       "    .dataframe thead th {\n",
       "        text-align: right;\n",
       "    }\n",
       "</style>\n",
       "<table border=\"1\" class=\"dataframe\">\n",
       "  <thead>\n",
       "    <tr style=\"text-align: right;\">\n",
       "      <th></th>\n",
       "      <th>A</th>\n",
       "      <th>B</th>\n",
       "      <th>C</th>\n",
       "      <th>D</th>\n",
       "    </tr>\n",
       "  </thead>\n",
       "  <tbody>\n",
       "    <tr>\n",
       "      <th>0</th>\n",
       "      <td>NaN</td>\n",
       "      <td>2.0</td>\n",
       "      <td>NaN</td>\n",
       "      <td>0</td>\n",
       "    </tr>\n",
       "    <tr>\n",
       "      <th>1</th>\n",
       "      <td>3.0</td>\n",
       "      <td>4.0</td>\n",
       "      <td>NaN</td>\n",
       "      <td>1</td>\n",
       "    </tr>\n",
       "    <tr>\n",
       "      <th>2</th>\n",
       "      <td>NaN</td>\n",
       "      <td>NaN</td>\n",
       "      <td>NaN</td>\n",
       "      <td>5</td>\n",
       "    </tr>\n",
       "    <tr>\n",
       "      <th>3</th>\n",
       "      <td>NaN</td>\n",
       "      <td>3.0</td>\n",
       "      <td>NaN</td>\n",
       "      <td>4</td>\n",
       "    </tr>\n",
       "  </tbody>\n",
       "</table>\n",
       "</div>"
      ],
      "text/plain": [
       "     A    B   C  D\n",
       "0  NaN  2.0 NaN  0\n",
       "1  3.0  4.0 NaN  1\n",
       "2  NaN  NaN NaN  5\n",
       "3  NaN  3.0 NaN  4"
      ]
     },
     "execution_count": 13,
     "metadata": {},
     "output_type": "execute_result"
    }
   ],
   "source": [
    "import pandas as pd\n",
    "df = pd.DataFrame([[np.nan, 2, np.nan, 0],\n",
    "                   [3, 4, np.nan, 1],\n",
    "                   [np.nan, np.nan, np.nan, 5],\n",
    "                   [np.nan, 3, np.nan, 4]],\n",
    "                  columns=list(\"ABCD\"))\n",
    "df"
   ]
  },
  {
   "cell_type": "code",
   "execution_count": 14,
   "metadata": {},
   "outputs": [
    {
     "name": "stdout",
     "output_type": "stream",
     "text": [
      "            A           B           C  D\n",
      "0  FILL VALUE         2.0  FILL VALUE  0\n",
      "1         3.0         4.0  FILL VALUE  1\n",
      "2  FILL VALUE  FILL VALUE  FILL VALUE  5\n",
      "3  FILL VALUE         3.0  FILL VALUE  4\n",
      "0    3.0\n",
      "1    3.0\n",
      "2    3.0\n",
      "3    3.0\n",
      "Name: A, dtype: float64\n",
      "0    NaN\n",
      "1    3.0\n",
      "2    NaN\n",
      "3    NaN\n",
      "Name: A, dtype: float64\n"
     ]
    }
   ],
   "source": [
    "print(df.fillna(value='FILL VALUE'))    \t\t#NaN is replaced by value=FILL VALUE \n",
    "\n",
    "print(df['A'].fillna(value=df[\"A\"].mean()))   #Select column \"A\" and fill the missing value with mean value of the column A OR\n",
    "\n",
    "print(df['A'].fillna(value=df['A'].std()))   #Select column \"A\" and fill the missing value with standard deviation value of the column A"
   ]
  },
  {
   "cell_type": "markdown",
   "metadata": {},
   "source": [
    "9 Replacing NA with a scalar value is equivalent behavior of the fillna() function.\n",
    "==\n",
    "- Many times, we have to replace a generic value with some specific value. \n",
    "- We can achieve this by applying the replace method."
   ]
  },
  {
   "cell_type": "code",
   "execution_count": 15,
   "metadata": {},
   "outputs": [
    {
     "name": "stdout",
     "output_type": "stream",
     "text": [
      "    one   two\n",
      "0    10  1000\n",
      "1    20     0\n",
      "2    30    30\n",
      "3    40    40\n",
      "4    50    50\n",
      "5  2000    60\n",
      "\n",
      "\n",
      "   one  two\n",
      "0   10   10\n",
      "1   20    0\n",
      "2   30   30\n",
      "3   40   40\n",
      "4   50   50\n",
      "5   60   60\n"
     ]
    }
   ],
   "source": [
    "df = pd.DataFrame({'one':[10,20,30,40,50,2000], 'two':[1000,0,30,40,50,60]})\n",
    "print(df)\n",
    "print(\"\\n\")\n",
    "print (df.replace({1000:10,2000:60}))"
   ]
  },
  {
   "cell_type": "markdown",
   "metadata": {},
   "source": [
    "10 Groupby() function\n",
    "=="
   ]
  },
  {
   "cell_type": "code",
   "execution_count": 55,
   "metadata": {},
   "outputs": [
    {
     "name": "stdout",
     "output_type": "stream",
     "text": [
      "  Company   Person  Sales\n",
      "0   CompA   Rajesh    200\n",
      "1   CompA  Pradeep    120\n",
      "2   CompB     Amit    340\n",
      "3   CompB   Rakesh    124\n",
      "4   CompC   Suresh    243\n",
      "5   CompC      Raj    350\n"
     ]
    },
    {
     "data": {
      "text/html": [
       "<div>\n",
       "<style scoped>\n",
       "    .dataframe tbody tr th:only-of-type {\n",
       "        vertical-align: middle;\n",
       "    }\n",
       "\n",
       "    .dataframe tbody tr th {\n",
       "        vertical-align: top;\n",
       "    }\n",
       "\n",
       "    .dataframe thead th {\n",
       "        text-align: right;\n",
       "    }\n",
       "</style>\n",
       "<table border=\"1\" class=\"dataframe\">\n",
       "  <thead>\n",
       "    <tr style=\"text-align: right;\">\n",
       "      <th></th>\n",
       "      <th>Sales</th>\n",
       "    </tr>\n",
       "    <tr>\n",
       "      <th>Company</th>\n",
       "      <th></th>\n",
       "    </tr>\n",
       "  </thead>\n",
       "  <tbody>\n",
       "    <tr>\n",
       "      <th>CompA</th>\n",
       "      <td>56.568542</td>\n",
       "    </tr>\n",
       "    <tr>\n",
       "      <th>CompB</th>\n",
       "      <td>152.735065</td>\n",
       "    </tr>\n",
       "    <tr>\n",
       "      <th>CompC</th>\n",
       "      <td>75.660426</td>\n",
       "    </tr>\n",
       "  </tbody>\n",
       "</table>\n",
       "</div>"
      ],
      "text/plain": [
       "              Sales\n",
       "Company            \n",
       "CompA     56.568542\n",
       "CompB    152.735065\n",
       "CompC     75.660426"
      ]
     },
     "execution_count": 55,
     "metadata": {},
     "output_type": "execute_result"
    }
   ],
   "source": [
    "data = {\"Company\": [ \"CompA\", \"CompA\", \"CompB\", \"CompB\", \"CompC\", \"CompC\"],\n",
    "              \"Person\": [\"Rajesh\", \"Pradeep\", \"Amit\", \"Rakesh\", \"Suresh\", \"Raj\"],\n",
    "              \"Sales\": [200, 120, 340, 124, 243, 350]}\n",
    "\n",
    "\n",
    "\n",
    "\n",
    "\n",
    "\n",
    "df=pd.DataFrame(data)\t\n",
    "print(df)\n",
    "\n",
    "comp = df.groupby(\"Company\").std()\n",
    "comp\n",
    "\n",
    "\n",
    "#comp=df.groupby(\"Person\").mean() \n",
    "#print(comp)\n",
    "#comp1=df.groupby(\"Company\")\t#grouping done using label name “Company”\n",
    "#comp1.std()    \t\t\t\t#apply standard deviation on grouped data\n"
   ]
  },
  {
   "cell_type": "code",
   "execution_count": 59,
   "metadata": {},
   "outputs": [
    {
     "data": {
      "text/plain": [
       "Sales    593\n",
       "Name: CompC, dtype: int64"
      ]
     },
     "execution_count": 59,
     "metadata": {},
     "output_type": "execute_result"
    }
   ],
   "source": [
    "data = {\"Company\": [ \"CompA\", \"CompA\", \"CompB\", \"CompB\", \"CompC\", \"CompC\"],\n",
    "              \"Person\": [\"Rajesh\", \"Pradeep\", \"Amit\", \"Rakesh\", \"Suresh\", \"Raj\"],\n",
    "              \"Sales\": [200, 120, 340, 124, 243, 350]}\n",
    "\n",
    "\n",
    "df=pd.DataFrame(data)\t\n",
    "df\n",
    "\n",
    "\n",
    "df1=df.groupby(\"Company\").sum().loc[\"CompC\"]\n",
    "df1                                     #.loc[\"CompB\"]\n",
    "# group data by ‘company’ label, apply sum function such that all data of same company gets added and then fetch Company “CompB” value after summation\t\n"
   ]
  },
  {
   "cell_type": "markdown",
   "metadata": {},
   "source": [
    "11 Finding maximum value in each label\n",
    "=="
   ]
  },
  {
   "cell_type": "code",
   "execution_count": 60,
   "metadata": {},
   "outputs": [
    {
     "data": {
      "text/html": [
       "<div>\n",
       "<style scoped>\n",
       "    .dataframe tbody tr th:only-of-type {\n",
       "        vertical-align: middle;\n",
       "    }\n",
       "\n",
       "    .dataframe tbody tr th {\n",
       "        vertical-align: top;\n",
       "    }\n",
       "\n",
       "    .dataframe thead th {\n",
       "        text-align: right;\n",
       "    }\n",
       "</style>\n",
       "<table border=\"1\" class=\"dataframe\">\n",
       "  <thead>\n",
       "    <tr style=\"text-align: right;\">\n",
       "      <th></th>\n",
       "      <th>Person</th>\n",
       "      <th>Sales</th>\n",
       "    </tr>\n",
       "    <tr>\n",
       "      <th>Company</th>\n",
       "      <th></th>\n",
       "      <th></th>\n",
       "    </tr>\n",
       "  </thead>\n",
       "  <tbody>\n",
       "    <tr>\n",
       "      <th>CompA</th>\n",
       "      <td>Pradeep</td>\n",
       "      <td>120</td>\n",
       "    </tr>\n",
       "    <tr>\n",
       "      <th>CompB</th>\n",
       "      <td>Amit</td>\n",
       "      <td>124</td>\n",
       "    </tr>\n",
       "    <tr>\n",
       "      <th>CompC</th>\n",
       "      <td>Raj</td>\n",
       "      <td>243</td>\n",
       "    </tr>\n",
       "  </tbody>\n",
       "</table>\n",
       "</div>"
      ],
      "text/plain": [
       "          Person  Sales\n",
       "Company                \n",
       "CompA    Pradeep    120\n",
       "CompB       Amit    124\n",
       "CompC        Raj    243"
      ]
     },
     "execution_count": 60,
     "metadata": {},
     "output_type": "execute_result"
    }
   ],
   "source": [
    "data = {\"Company\": [ \"CompA\", \"CompA\", \"CompB\", \"CompB\", \"CompC\", \"CompC\"],\n",
    "              \"Person\": [\"Rajesh\", \"Pradeep\", \"Amit\", \"Rakesh\", \"Suresh\", \"Raj\"],\n",
    "              \"Sales\": [200, 120, 340, 124, 243, 350]}\n",
    "df=pd.DataFrame(data)\t\n",
    "df\n",
    "df.groupby(\"Company\").min()\t\n",
    "#group dataset based on ‘company’ label and pick maximum value in each label\n"
   ]
  },
  {
   "cell_type": "markdown",
   "metadata": {},
   "source": [
    "12 Finding unique value & number of occurrence from Dataframe\n",
    "=="
   ]
  },
  {
   "cell_type": "code",
   "execution_count": 63,
   "metadata": {},
   "outputs": [
    {
     "name": "stdout",
     "output_type": "stream",
     "text": [
      "   col1  col2 col3\n",
      "0     1   444  abc\n",
      "1     2   555  def\n",
      "2     3   666  ghi\n",
      "3     4   444  xyz\n",
      "\n",
      "\n",
      "[444 555 666]\n",
      "\n",
      "\n",
      "444    2\n",
      "666    1\n",
      "555    1\n",
      "Name: col2, dtype: int64\n"
     ]
    }
   ],
   "source": [
    "df = pd.DataFrame({\"col1\":[1,2,3,4],'col2':[444,555,666,444],'col3':['abc','def','ghi',\"xyz\"]})\n",
    "# col1, col2 & col3 are column labels, each column have their own values\n",
    "print(df)\n",
    "print(\"\\n\")\n",
    "df1=df['col2'].unique()\t\t#fetches the unique values available in column\n",
    "print(df1)\n",
    "\n",
    "print(\"\\n\")\n",
    "\n",
    "\n",
    "df2=df['col2'].value_counts()\t# count number of occurance of every value\n",
    "print(df2)"
   ]
  },
  {
   "cell_type": "markdown",
   "metadata": {},
   "source": [
    "13 Statistical Functions\n",
    "==\n",
    "i. The  pct_change() function compares every element with its prior element and computes the change percentage."
   ]
  },
  {
   "cell_type": "code",
   "execution_count": 68,
   "metadata": {},
   "outputs": [
    {
     "name": "stdout",
     "output_type": "stream",
     "text": [
      "0    1\n",
      "1    2\n",
      "2    3\n",
      "3    4\n",
      "4    5\n",
      "5    4\n",
      "dtype: int64\n",
      "0         NaN\n",
      "1    1.000000\n",
      "2    0.500000\n",
      "3    0.333333\n",
      "4    0.250000\n",
      "5   -0.200000\n",
      "dtype: float64\n",
      "\n",
      "\n",
      "          0         1\n",
      "0 -0.221793  1.339926\n",
      "1  0.029310  1.985386\n",
      "2  1.447166 -0.287629\n",
      "3 -1.359311 -0.048041\n",
      "4 -0.480787  0.377753\n",
      "           0         1\n",
      "0        NaN       NaN\n",
      "1  -1.132149  0.481713\n",
      "2  48.374953 -1.144873\n",
      "3  -1.939292 -0.832975\n",
      "4  -0.646301 -8.863086\n"
     ]
    }
   ],
   "source": [
    "import numpy as np\n",
    "\n",
    "\n",
    "s = pd.Series([1,2,3,4,5,4])      \n",
    "print(s)\n",
    "\n",
    "print (s.pct_change())\n",
    "\n",
    "print(\"\\n\")\n",
    "df = pd.DataFrame(np.random.randn(5, 2))\n",
    "print(df)\n",
    "print (df.pct_change())"
   ]
  },
  {
   "cell_type": "markdown",
   "metadata": {},
   "source": [
    "ii. Covariance is applied on series data. The Series object has a method cov() to compute covariance between series objects. NA will be excluded automatically."
   ]
  },
  {
   "cell_type": "code",
   "execution_count": 74,
   "metadata": {
    "scrolled": true
   },
   "outputs": [
    {
     "name": "stdout",
     "output_type": "stream",
     "text": [
      "-0.5077946963592819\n"
     ]
    }
   ],
   "source": [
    "\n",
    "import numpy as np\n",
    "\n",
    "s1 = pd.Series(np.random.randn(10))\n",
    "\n",
    "s2 = pd.Series(np.random.randn(10))\n",
    "\n",
    "print (s1.cov(s2))"
   ]
  },
  {
   "cell_type": "markdown",
   "metadata": {},
   "source": [
    "iii. Correlation shows the linear relationship between any two array of values, available in series. \n",
    "There are multiple methods to compute the correlation like pearson(default), spearman and kendall."
   ]
  },
  {
   "cell_type": "code",
   "execution_count": 76,
   "metadata": {},
   "outputs": [
    {
     "name": "stdout",
     "output_type": "stream",
     "text": [
      "          a         b         c         d         e\n",
      "a  1.000000  0.150791 -0.073069  0.561729 -0.154842\n",
      "b  0.150791  1.000000  0.245943  0.230347  0.002885\n",
      "c -0.073069  0.245943  1.000000 -0.006091  0.035207\n",
      "d  0.561729  0.230347 -0.006091  1.000000 -0.214851\n",
      "e -0.154842  0.002885  0.035207 -0.214851  1.000000\n"
     ]
    }
   ],
   "source": [
    "import pandas as pd\n",
    "import numpy as np\n",
    "frame = pd.DataFrame(np.random.randn(10, 5), columns=['a', 'b', 'c', 'd', 'e'])\n",
    "frame\n",
    "print (frame.corr())"
   ]
  },
  {
   "cell_type": "markdown",
   "metadata": {},
   "source": [
    "iv. Data Ranking produces ranking for each element in the array of elements; large value assigned higher rank. \n",
    "In case of ties, assigns the mean rank."
   ]
  },
  {
   "cell_type": "code",
   "execution_count": 78,
   "metadata": {},
   "outputs": [
    {
     "name": "stdout",
     "output_type": "stream",
     "text": [
      "a    0.884368\n",
      "b   -1.386823\n",
      "c    0.653662\n",
      "d   -1.386823\n",
      "e    0.618949\n",
      "dtype: float64\n",
      "a    5.0\n",
      "b    1.5\n",
      "c    4.0\n",
      "d    1.5\n",
      "e    3.0\n",
      "dtype: float64\n"
     ]
    }
   ],
   "source": [
    "import pandas as pd\n",
    "import numpy as np\n",
    "s = pd.Series(np.random.randn(5), index=list('abcde'))\n",
    "\n",
    "s['d'] = s['b'] # so there's a tie\n",
    "\n",
    "print (s)\n",
    "\n",
    "print (s.rank())                        "
   ]
  },
  {
   "cell_type": "markdown",
   "metadata": {},
   "source": [
    "14 Fetch Data from CSV file or Excel File\n",
    "=="
   ]
  },
  {
   "cell_type": "code",
   "execution_count": 79,
   "metadata": {},
   "outputs": [
    {
     "name": "stdout",
     "output_type": "stream",
     "text": [
      "         student_name                  student_email      mobile branch  \\\n",
      "0      SANSKRITI JAIN    sanskritijain1012@gmail.com  8700625647    CSE   \n",
      "1   VAISHNAVI SHEORAN      vishusheoran123@gmail.com  9315191765    CSE   \n",
      "2       BHUMIKA VERMA      bhumikabhumi543@gmail.com  8178941195    CSE   \n",
      "3        PRIYA KUMARI            ps5052922@gmail.com  8595382773    CSE   \n",
      "4        KANIKA JOSHI          kanikaj211@gmail.com   8860766928    CSE   \n",
      "5          SWATI GOUR           gourdswati@gmail.com  9711367393    CSE   \n",
      "6    ANUKRITI CHAUHAN  anukritichauhan0808@gmail.com  9810790397    CSE   \n",
      "7       Harshikha Pal         23harshu2000@gmail.com  9315873683    CSE   \n",
      "8        Rajni Kumari       rajnimehta7838@gmail.com  8506828515    CSE   \n",
      "9               Sarah          sarahsid97@gmail.com   7838477586    CSE   \n",
      "10      Aastha Gautam     aasthagautam2000@gmail.com  9910952743    CSE   \n",
      "11              Komal         komalpal0000@gmail.com  8368126935    CSE   \n",
      "12       Mansi Gautam      gautammansi030@gmail.com   8587022989    CSE   \n",
      "13     Prabhleen Kaur  prabhleenkaurkapur@gmail.com   9711941316    CSE   \n",
      "14      Vibha Pandita           vibha.vp02@gmail.com  9682159768    CSE   \n",
      "15              Yukti       yuktimelty2001@gmail.com  7011745977    CSE   \n",
      "16             Anchal    anchalchaudhary00@gmail.com  9354500474    CSE   \n",
      "17    Prachi Bajpayee  prachibajpayee53915@gmail.com  9250214655    CSE   \n",
      "18     Muskan Rautela    muskanrautela0808@gmail.com  8810627719    CSE   \n",
      "19      Ruchita Singh         rsingh110055@gmail.com  9625536241    ECE   \n",
      "20  Geetanjali mishra    geetanjali1612002@gmail.com  8800730780    ECE   \n",
      "21        Aleena Umar          aleenaumar4@gmail.com  8383869730    ECE   \n",
      "22       HREEYA SINGH             hreeya07@gmail.com  9310259515    ECE   \n",
      "23             Sakshi      sakshikishore01@gmail.com  9870503850    ECE   \n",
      "24             Khyati          khayati.048@gmail.com  9650426827    ECE   \n",
      "25       Akansha Jain       2112000akansha@gmail.com  9625267596    ECE   \n",
      "26      Nishu Kumari        nishudubey2000@gmail.com  9582123329    ECE   \n",
      "27               Neha       nehasingh76059@gmail.com  7303439307    ECE   \n",
      "28    Jigyaasa Mahor        jigyamahor3801@gmail.com  9871372048    ECE   \n",
      "29          V Monisha      vrajeshwari2604@gmail.com  8076560532    ECE   \n",
      "\n",
      "    access    cgpa year  \n",
      "0   Laptop   9.323    P  \n",
      "1   Laptop    76.6    P  \n",
      "2   Mobile       8    P  \n",
      "3   Laptop     7.8    P  \n",
      "4   Laptop   8.439    P  \n",
      "5   Laptop   7.195    P  \n",
      "6   Laptop       9    P  \n",
      "7   Laptop       8    F  \n",
      "8   Laptop     6.8    F  \n",
      "9   Laptop   8.892    F  \n",
      "10  Laptop     7.9    F  \n",
      "11  Laptop     8.1    F  \n",
      "12  Laptop   8.117    F  \n",
      "13  Laptop   8.299    F  \n",
      "14  Laptop       8    F  \n",
      "15  Laptop    8.35    F  \n",
      "16  Laptop     7.9    F  \n",
      "17  Laptop       8    F  \n",
      "18  Laptop    8.35    F  \n",
      "19  Laptop     7.5    P  \n",
      "20  Laptop     8.4    P  \n",
      "21  Laptop     8.7    F  \n",
      "22  Laptop   9.172    P  \n",
      "23  Laptop   8.169    P  \n",
      "24  Laptop     7.8    P  \n",
      "25  Mobile     8.3    P  \n",
      "26  Laptop  80.47%    P  \n",
      "27  Mobile      70    P  \n",
      "28  Laptop    65.5    F  \n",
      "29  Laptop     6.8    P  \n"
     ]
    }
   ],
   "source": [
    "import numpy as np\n",
    "import pandas as pd\n",
    "df = pd.read_csv('Batch.csv') \n",
    "print(df)\n"
   ]
  },
  {
   "cell_type": "code",
   "execution_count": 80,
   "metadata": {},
   "outputs": [
    {
     "name": "stdout",
     "output_type": "stream",
     "text": [
      "         Student Name  Session Quiz   Grades  Unit Assessment  Grades.1\n",
      "0      Sanskriti Jain            4.0     NaN             12.0       NaN\n",
      "1        HREEYA SINGH            4.0     NaN             11.0       NaN\n",
      "2        Nishu Kumari            4.0     NaN             13.0       NaN\n",
      "3              Khyati            NaN     NaN              NaN       NaN\n",
      "4   Vaishnavi sheoran            NaN     NaN              NaN       NaN\n",
      "5        Akansha Jain            NaN     NaN              NaN       NaN\n",
      "6          swati gour            NaN     NaN              NaN       NaN\n",
      "7        Kanika Joshi            NaN     NaN              NaN       NaN\n",
      "8               Yukti            NaN     NaN              NaN       NaN\n",
      "9       Bhumika Verma            NaN     NaN              NaN       NaN\n",
      "10              Sarah            NaN     NaN              NaN       NaN\n",
      "11             sakshi            NaN     NaN              NaN       NaN\n",
      "12         Neha Singh            NaN     NaN              NaN       NaN\n",
      "13       Rajni Kumari            NaN     NaN              NaN       NaN\n",
      "14     Prabhleen Kaur            NaN     NaN              NaN       NaN\n",
      "15      Ruchita Singh            NaN     NaN              NaN       NaN\n",
      "16       Mansi Gautam            NaN     NaN              NaN       NaN\n",
      "17      Aastha Gautam            NaN     NaN              NaN       NaN\n",
      "18    Prachi bajpayee            NaN     NaN              NaN       NaN\n",
      "19       Priya Kumari            NaN     NaN              NaN       NaN\n",
      "20      Vibha Pandita            NaN     NaN              NaN       NaN\n",
      "21   Anukriti Chauhan            NaN     NaN              NaN       NaN\n",
      "22             Anchal            NaN     NaN              NaN       NaN\n",
      "23              Komal            NaN     NaN              NaN       NaN\n",
      "24      Harshikha Pal            NaN     NaN              NaN       NaN\n",
      "25  Geetanjali mishra            NaN     NaN              NaN       NaN\n",
      "26          V Monisha            NaN     NaN              NaN       NaN\n",
      "27     Muskan Rautela            NaN     NaN              NaN       NaN\n",
      "28        Aleena Umar            NaN     NaN              NaN       NaN\n",
      "29           Jigyaasa            NaN     NaN              NaN       NaN\n",
      "30           Sushmita            NaN     NaN              NaN       NaN\n"
     ]
    }
   ],
   "source": [
    "df=pd.read_excel(\"assessment.xlsx\")\n",
    "print(df)"
   ]
  },
  {
   "cell_type": "markdown",
   "metadata": {},
   "source": [
    "15 Save Data frame into CSV file or Excel file\n",
    "=="
   ]
  },
  {
   "cell_type": "code",
   "execution_count": 81,
   "metadata": {},
   "outputs": [],
   "source": [
    "df1= df.to_csv('Example.csv',index=False)\n",
    "df1\n"
   ]
  }
 ],
 "metadata": {
  "kernelspec": {
   "display_name": "Python 3",
   "language": "python",
   "name": "python3"
  },
  "language_info": {
   "codemirror_mode": {
    "name": "ipython",
    "version": 3
   },
   "file_extension": ".py",
   "mimetype": "text/x-python",
   "name": "python",
   "nbconvert_exporter": "python",
   "pygments_lexer": "ipython3",
   "version": "3.8.8"
  }
 },
 "nbformat": 4,
 "nbformat_minor": 2
}

{
 "cells": [
  {
   "cell_type": "code",
   "execution_count": null,
   "id": "e336c7b9",
   "metadata": {},
   "outputs": [],
   "source": [
    "import numpy as np\n",
    "import pandas as pd\n",
    "import matplotlib.pyplot as plt\n",
    "import seaborn as sns\n",
    "import sklearn"
   ]
  },
  {
   "cell_type": "markdown",
   "id": "c87acbfe",
   "metadata": {},
   "source": [
    "Check the dataset"
   ]
  },
  {
   "cell_type": "code",
   "execution_count": null,
   "id": "5fe1be5a",
   "metadata": {
    "scrolled": true
   },
   "outputs": [],
   "source": [
    "from seaborn import load_dataset\n",
    "data=load_dataset(\"titanic\")\n",
    "data.head(5)"
   ]
  },
  {
   "cell_type": "code",
   "execution_count": null,
   "id": "9a3b20fd",
   "metadata": {},
   "outputs": [],
   "source": [
    "data.shape"
   ]
  },
  {
   "cell_type": "code",
   "execution_count": null,
   "id": "4d2d4849",
   "metadata": {},
   "outputs": [],
   "source": [
    "data.info()"
   ]
  },
  {
   "cell_type": "code",
   "execution_count": null,
   "id": "9d7e08f6",
   "metadata": {},
   "outputs": [],
   "source": [
    "data.describe(include='all')"
   ]
  },
  {
   "cell_type": "code",
   "execution_count": null,
   "id": "37b4f9c2",
   "metadata": {},
   "outputs": [],
   "source": [
    "data.isnull().sum()"
   ]
  },
  {
   "cell_type": "markdown",
   "id": "b158c486",
   "metadata": {},
   "source": [
    "Data Cleaning"
   ]
  },
  {
   "cell_type": "code",
   "execution_count": null,
   "id": "a7b7a7a4",
   "metadata": {},
   "outputs": [],
   "source": [
    "values = data['age'].mode()\n",
    "values"
   ]
  },
  {
   "cell_type": "code",
   "execution_count": null,
   "id": "d9d87745",
   "metadata": {},
   "outputs": [],
   "source": [
    "data= data.fillna({'age':values[0]})\n",
    "data=data.fillna({'embarked':data['embarked'].mode()[0]})\n",
    "data.head(3)"
   ]
  },
  {
   "cell_type": "markdown",
   "id": "a14f06d0",
   "metadata": {},
   "source": [
    "Feature Engineering"
   ]
  },
  {
   "cell_type": "code",
   "execution_count": null,
   "id": "61f5237d",
   "metadata": {
    "scrolled": false
   },
   "outputs": [],
   "source": [
    "data_new=data.drop(['class','embark_town','alive','deck'],axis=1,inplace=False)\n",
    "data_new.head(5)"
   ]
  },
  {
   "cell_type": "code",
   "execution_count": null,
   "id": "453c0947",
   "metadata": {},
   "outputs": [],
   "source": [
    "sns.countplot(data=data_new,x='pclass')\n",
    "plt.show()"
   ]
  },
  {
   "cell_type": "markdown",
   "id": "e9793bc0",
   "metadata": {},
   "source": [
    "Categorical Plot"
   ]
  },
  {
   "cell_type": "code",
   "execution_count": null,
   "id": "6ce3e1a8",
   "metadata": {},
   "outputs": [],
   "source": [
    "sns.countplot(data=data_new,x='pclass',hue='survived')"
   ]
  },
  {
   "cell_type": "code",
   "execution_count": null,
   "id": "d18b1376",
   "metadata": {},
   "outputs": [],
   "source": [
    "#sns.countplot(data=data_new,x='adult_male',hue='survived')\n",
    "sns.catplot(data=data_new,x='pclass',hue='sex',col='survived',kind='count')\n",
    "plt.show()"
   ]
  },
  {
   "cell_type": "code",
   "execution_count": null,
   "id": "4b8ad588",
   "metadata": {},
   "outputs": [],
   "source": [
    "sns.histplot(data=data_new,x='fare',bins=10)"
   ]
  },
  {
   "cell_type": "code",
   "execution_count": null,
   "id": "045433cd",
   "metadata": {
    "scrolled": true
   },
   "outputs": [],
   "source": [
    "sns.boxplot(x='pclass',y='age',data=data_new)"
   ]
  },
  {
   "cell_type": "code",
   "execution_count": null,
   "id": "c0bf73d6",
   "metadata": {},
   "outputs": [],
   "source": [
    "data_new.head(3)"
   ]
  },
  {
   "cell_type": "code",
   "execution_count": null,
   "id": "d6bf6900",
   "metadata": {
    "scrolled": true
   },
   "outputs": [],
   "source": [
    "who = pd.get_dummies(data_new['who'])\n",
    "who.drop(['child'],axis=1,inplace=True)\n",
    "who"
   ]
  },
  {
   "cell_type": "code",
   "execution_count": null,
   "id": "cff7786f",
   "metadata": {
    "scrolled": true
   },
   "outputs": [],
   "source": [
    "embarked=pd.get_dummies(data_new['embarked'])\n",
    "embarked.drop(['C'],axis=1,inplace=True)\n",
    "embarked"
   ]
  },
  {
   "cell_type": "code",
   "execution_count": null,
   "id": "ba85dd48",
   "metadata": {
    "scrolled": true
   },
   "outputs": [],
   "source": [
    "data_new"
   ]
  },
  {
   "cell_type": "code",
   "execution_count": null,
   "id": "b1279761",
   "metadata": {
    "scrolled": true
   },
   "outputs": [],
   "source": [
    "data_n = pd.concat([data_new,who,embarked],axis=1)\n",
    "data_n.head(2)"
   ]
  },
  {
   "cell_type": "code",
   "execution_count": null,
   "id": "c7adc399",
   "metadata": {
    "scrolled": true
   },
   "outputs": [],
   "source": [
    "data_n.drop(['sex','embarked','adult_male','alone','who'],axis=1,inplace=True)\n"
   ]
  },
  {
   "cell_type": "code",
   "execution_count": null,
   "id": "a7a3ce45",
   "metadata": {},
   "outputs": [],
   "source": [
    "data_n.head(3)"
   ]
  },
  {
   "cell_type": "code",
   "execution_count": null,
   "id": "9baa11b7",
   "metadata": {},
   "outputs": [],
   "source": [
    "data_n.corr()"
   ]
  },
  {
   "cell_type": "code",
   "execution_count": null,
   "id": "2c7effac",
   "metadata": {},
   "outputs": [],
   "source": [
    "data_n.describe()"
   ]
  },
  {
   "cell_type": "markdown",
   "id": "b60bec15",
   "metadata": {},
   "source": [
    "Modelling and Prediction"
   ]
  },
  {
   "cell_type": "code",
   "execution_count": null,
   "id": "1d885d21",
   "metadata": {},
   "outputs": [],
   "source": [
    "X = data_n.drop(['survived'],axis=1)"
   ]
  },
  {
   "cell_type": "code",
   "execution_count": null,
   "id": "d52c3bbc",
   "metadata": {},
   "outputs": [],
   "source": [
    "y= data_n['survived']"
   ]
  },
  {
   "cell_type": "code",
   "execution_count": null,
   "id": "9a096873",
   "metadata": {},
   "outputs": [],
   "source": [
    "from sklearn.model_selection import train_test_split"
   ]
  },
  {
   "cell_type": "code",
   "execution_count": null,
   "id": "3869f921",
   "metadata": {},
   "outputs": [],
   "source": [
    "X_train, X_test, y_train, y_test = train_test_split(\n",
    "...     X, y, test_size=0.3, random_state=42)"
   ]
  },
  {
   "cell_type": "code",
   "execution_count": null,
   "id": "64cae0c8",
   "metadata": {},
   "outputs": [],
   "source": [
    "from sklearn.linear_model import LogisticRegression"
   ]
  },
  {
   "cell_type": "code",
   "execution_count": null,
   "id": "3cd6f555",
   "metadata": {},
   "outputs": [],
   "source": [
    "lr = LogisticRegression()"
   ]
  },
  {
   "cell_type": "code",
   "execution_count": null,
   "id": "0689535f",
   "metadata": {},
   "outputs": [],
   "source": [
    "from sklearn.preprocessing import StandardScaler\n",
    "st=StandardScaler()\n",
    "X_train=st.fit_transform(X_train)\n",
    "X_test= st.transform(X_test)\n",
    "X_test"
   ]
  },
  {
   "cell_type": "code",
   "execution_count": null,
   "id": "85976b8a",
   "metadata": {},
   "outputs": [],
   "source": [
    "lr.fit(X_train,y_train)"
   ]
  },
  {
   "cell_type": "code",
   "execution_count": null,
   "id": "3ca31365",
   "metadata": {},
   "outputs": [],
   "source": [
    "predictions=lr.predict(X_test)"
   ]
  },
  {
   "cell_type": "code",
   "execution_count": null,
   "id": "b867440d",
   "metadata": {},
   "outputs": [],
   "source": [
    "from sklearn.metrics import classification_report"
   ]
  },
  {
   "cell_type": "code",
   "execution_count": null,
   "id": "b53406c8",
   "metadata": {},
   "outputs": [],
   "source": [
    "target_names = ['class 0','class 1']\n",
    "print(classification_report(y_test, predictions,target_names=target_names))              "
   ]
  },
  {
   "cell_type": "code",
   "execution_count": null,
   "id": "67632e1b",
   "metadata": {},
   "outputs": [],
   "source": [
    "from sklearn.metrics import confusion_matrix"
   ]
  },
  {
   "cell_type": "code",
   "execution_count": null,
   "id": "baf1af69",
   "metadata": {},
   "outputs": [],
   "source": [
    "confusion_matrix(y_test,predictions)"
   ]
  },
  {
   "cell_type": "code",
   "execution_count": null,
   "id": "6b856685",
   "metadata": {},
   "outputs": [],
   "source": [
    "from sklearn.metrics import accuracy_score"
   ]
  },
  {
   "cell_type": "code",
   "execution_count": null,
   "id": "b41cec47",
   "metadata": {},
   "outputs": [],
   "source": [
    "accuracy_score(y_test,predictions)"
   ]
  },
  {
   "cell_type": "code",
   "execution_count": null,
   "id": "c7afc977",
   "metadata": {
    "scrolled": false
   },
   "outputs": [],
   "source": [
    "import matplotlib.pyplot as plt\n",
    "from sklearn import metrics\n",
    "y_pred_prob = lr.predict_proba(X_test)[::,1]\n",
    "y_pred_prob\n",
    "fpr, tpr, _ = metrics.roc_curve(y_test,  y_pred_prob)"
   ]
  },
  {
   "cell_type": "code",
   "execution_count": null,
   "id": "978696ef",
   "metadata": {},
   "outputs": [],
   "source": [
    "auc = metrics.roc_auc_score(y_test, y_pred_prob)\n",
    "print(auc)"
   ]
  },
  {
   "cell_type": "code",
   "execution_count": null,
   "id": "23942790",
   "metadata": {},
   "outputs": [],
   "source": [
    "plt.plot(fpr,tpr,label=\"AUC=\"+str(auc)) #Plot figure\n",
    "plt.ylabel('True Positive Rate')\n",
    "plt.xlabel('False Positive Rate')\n",
    "plt.legend(loc=4)\n",
    "plt.show()"
   ]
  },
  {
   "cell_type": "code",
   "execution_count": null,
   "id": "a873b170",
   "metadata": {},
   "outputs": [],
   "source": [
    "X_test=[[4,1,2,1,0,1,0,0,1]]\n",
    "y_pred_prob = lr.predict_proba(X_test)\n",
    "#y_pred_prob\n",
    "predictions=lr.predict(X_test)\n",
    "predictions"
   ]
  }
 ],
 "metadata": {
  "kernelspec": {
   "display_name": "Python 3",
   "language": "python",
   "name": "python3"
  },
  "language_info": {
   "codemirror_mode": {
    "name": "ipython",
    "version": 3
   },
   "file_extension": ".py",
   "mimetype": "text/x-python",
   "name": "python",
   "nbconvert_exporter": "python",
   "pygments_lexer": "ipython3",
   "version": "3.8.8"
  }
 },
 "nbformat": 4,
 "nbformat_minor": 5
}

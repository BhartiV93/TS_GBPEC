{
 "cells": [
  {
   "cell_type": "code",
   "execution_count": 2,
   "id": "33c7b88e",
   "metadata": {},
   "outputs": [],
   "source": [
    "from sklearn import preprocessing\n",
    "#Generating the Gaussian Naive Bayes model\n",
    "from sklearn.naive_bayes import GaussianNB"
   ]
  },
  {
   "cell_type": "code",
   "execution_count": 3,
   "id": "59cf73a1",
   "metadata": {},
   "outputs": [],
   "source": [
    "# Assign features and encoding labels\n",
    "\n",
    "weather=['Sunny','Sunny','Overcast','Rainy','Rainy','Rainy','Overcast','Sunny','Sunny',\n",
    "'Rainy','Sunny','Overcast','Overcast','Rainy']\n",
    "\n",
    "humidity=['High','High','High','Medium','Low','Low','Low','Medium','Low','Medium','Medium','Medium','High','Medium']\n",
    "\n",
    "batfirst=['No','No','Yes','Yes','Yes','No','Yes','No','Yes','Yes','Yes','Yes','Yes','No']"
   ]
  },
  {
   "cell_type": "code",
   "execution_count": 4,
   "id": "a361b7c6",
   "metadata": {},
   "outputs": [
    {
     "data": {
      "text/plain": [
       "14"
      ]
     },
     "execution_count": 4,
     "metadata": {},
     "output_type": "execute_result"
    }
   ],
   "source": [
    "len(weather)"
   ]
  },
  {
   "cell_type": "code",
   "execution_count": 5,
   "id": "b349c817",
   "metadata": {},
   "outputs": [],
   "source": [
    "# Creating labelEncoder\n",
    "le = preprocessing.LabelEncoder()"
   ]
  },
  {
   "cell_type": "code",
   "execution_count": 6,
   "id": "45be2f30",
   "metadata": {},
   "outputs": [],
   "source": [
    "# Converting string labels into numbers.\n",
    "weather_encoded=le.fit_transform(weather)\n",
    "hum_encoded=le.fit_transform(humidity)"
   ]
  },
  {
   "cell_type": "code",
   "execution_count": 9,
   "id": "ea6e96ad",
   "metadata": {},
   "outputs": [
    {
     "data": {
      "text/plain": [
       "['High',\n",
       " 'High',\n",
       " 'High',\n",
       " 'Medium',\n",
       " 'Low',\n",
       " 'Low',\n",
       " 'Low',\n",
       " 'Medium',\n",
       " 'Low',\n",
       " 'Medium',\n",
       " 'Medium',\n",
       " 'Medium',\n",
       " 'High',\n",
       " 'Medium']"
      ]
     },
     "execution_count": 9,
     "metadata": {},
     "output_type": "execute_result"
    }
   ],
   "source": [
    "humidity\n"
   ]
  },
  {
   "cell_type": "code",
   "execution_count": 7,
   "id": "e4e5058f",
   "metadata": {},
   "outputs": [
    {
     "name": "stdout",
     "output_type": "stream",
     "text": [
      "[2 2 0 1 1 1 0 2 2 1 2 0 0 1] [0 0 0 2 1 1 1 2 1 2 2 2 0 2] [0 0 1 1 1 0 1 0 1 1 1 1 1 0]\n"
     ]
    }
   ],
   "source": [
    "label=le.fit_transform(batfirst)\n",
    "print(weather_encoded,hum_encoded,label)"
   ]
  },
  {
   "cell_type": "code",
   "execution_count": 10,
   "id": "de6e3fd6",
   "metadata": {},
   "outputs": [],
   "source": [
    "#Combining weather and humidity in a single tuple as features\n",
    "features=list(zip(weather_encoded,hum_encoded))"
   ]
  },
  {
   "cell_type": "code",
   "execution_count": 11,
   "id": "ec925ae7",
   "metadata": {
    "scrolled": true
   },
   "outputs": [
    {
     "data": {
      "text/plain": [
       "[(2, 0),\n",
       " (2, 0),\n",
       " (0, 0),\n",
       " (1, 2),\n",
       " (1, 1),\n",
       " (1, 1),\n",
       " (0, 1),\n",
       " (2, 2),\n",
       " (2, 1),\n",
       " (1, 2),\n",
       " (2, 2),\n",
       " (0, 2),\n",
       " (0, 0),\n",
       " (1, 2)]"
      ]
     },
     "execution_count": 11,
     "metadata": {},
     "output_type": "execute_result"
    }
   ],
   "source": [
    "features"
   ]
  },
  {
   "cell_type": "code",
   "execution_count": 12,
   "id": "b4df2a51",
   "metadata": {},
   "outputs": [],
   "source": [
    "data=list(zip(weather_encoded,hum_encoded,label))"
   ]
  },
  {
   "cell_type": "code",
   "execution_count": 13,
   "id": "8920a0b3",
   "metadata": {},
   "outputs": [
    {
     "data": {
      "text/plain": [
       "[(2, 0, 0),\n",
       " (2, 0, 0),\n",
       " (0, 0, 1),\n",
       " (1, 2, 1),\n",
       " (1, 1, 1),\n",
       " (1, 1, 0),\n",
       " (0, 1, 1),\n",
       " (2, 2, 0),\n",
       " (2, 1, 1),\n",
       " (1, 2, 1),\n",
       " (2, 2, 1),\n",
       " (0, 2, 1),\n",
       " (0, 0, 1),\n",
       " (1, 2, 0)]"
      ]
     },
     "execution_count": 13,
     "metadata": {},
     "output_type": "execute_result"
    }
   ],
   "source": [
    "data"
   ]
  },
  {
   "cell_type": "code",
   "execution_count": 14,
   "id": "5ad933a0",
   "metadata": {},
   "outputs": [
    {
     "data": {
      "text/plain": [
       "GaussianNB()"
      ]
     },
     "execution_count": 14,
     "metadata": {},
     "output_type": "execute_result"
    }
   ],
   "source": [
    "#Create a Gaussian Classifier\n",
    "model = GaussianNB()\n",
    "model.fit(features,label) #Train the model using training set."
   ]
  },
  {
   "cell_type": "code",
   "execution_count": null,
   "id": "e41bd765",
   "metadata": {},
   "outputs": [
    {
     "name": "stdout",
     "output_type": "stream",
     "text": [
      "Enter Weather and Humidtity conditions : \n"
     ]
    }
   ],
   "source": [
    "print(\"Enter Weather and Humidtity conditions : \")\n",
    "w,h=map(int, input().split())"
   ]
  },
  {
   "cell_type": "code",
   "execution_count": 16,
   "id": "c55dddcd",
   "metadata": {},
   "outputs": [
    {
     "name": "stdout",
     "output_type": "stream",
     "text": [
      "[0]\n"
     ]
    }
   ],
   "source": [
    "#Predict Output\n",
    "predicted= model.predict([[w,h]]) # ''' For Weather : 0:Overcast, 2:Sunny , 1:Rainy ''' For Humidity : 0:High, 2:Medium, 1:low\n",
    "print(predicted) # --> [1] that means yes, the player should bat first and [0] that means No, player should bowl first. "
   ]
  },
  {
   "cell_type": "code",
   "execution_count": null,
   "id": "05abb430",
   "metadata": {},
   "outputs": [],
   "source": []
  }
 ],
 "metadata": {
  "kernelspec": {
   "display_name": "Python 3",
   "language": "python",
   "name": "python3"
  },
  "language_info": {
   "codemirror_mode": {
    "name": "ipython",
    "version": 3
   },
   "file_extension": ".py",
   "mimetype": "text/x-python",
   "name": "python",
   "nbconvert_exporter": "python",
   "pygments_lexer": "ipython3",
   "version": "3.8.8"
  }
 },
 "nbformat": 4,
 "nbformat_minor": 5
}

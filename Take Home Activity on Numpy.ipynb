{
 "cells": [
  {
   "cell_type": "markdown",
   "id": "dc5a14c0",
   "metadata": {},
   "source": [
    "Calculate the BMI index of cricket players\n",
    "\n",
    "1.) Heights of the players in inches \n",
    "\n",
    "height_inches = [61,65,63,69,70,73,68,64,63,62,66]\n",
    "\n",
    "2.) Weight of players in pounds\n",
    "weight_pounds = [100,200,160,180,140,155,165,172,180,200,168]\n",
    "\n",
    "inches to metre = multiply by 0.0245\n",
    "pounds to kgs  = multiply by 0.45\n",
    "\n",
    "Formula for BMI Calculation\n",
    "formula - bmi = weight in kgs / (height in meters ** 2)\n",
    "\n",
    "Find out the players whose BMI is less than 21\n",
    "\n",
    "Calculate the mean of BMI values\n",
    "\n",
    "Calculate the Standard Deviation of BMI Values\n",
    "\n",
    "Use the Numpy Library to do this activity.\n",
    "\n"
   ]
  }
 ],
 "metadata": {
  "kernelspec": {
   "display_name": "Python 3",
   "language": "python",
   "name": "python3"
  },
  "language_info": {
   "codemirror_mode": {
    "name": "ipython",
    "version": 3
   },
   "file_extension": ".py",
   "mimetype": "text/x-python",
   "name": "python",
   "nbconvert_exporter": "python",
   "pygments_lexer": "ipython3",
   "version": "3.8.8"
  }
 },
 "nbformat": 4,
 "nbformat_minor": 5
}

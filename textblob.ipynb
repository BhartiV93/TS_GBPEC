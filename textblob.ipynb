{
 "cells": [
  {
   "cell_type": "markdown",
   "id": "fa598db5",
   "metadata": {},
   "source": [
    "https://pypi.org/project/textblob/#:~:text=TextBlob%20is%20a%20Python%20%282%20and%203%29%20library,phrase%20extraction%2C%20sentiment%20analysis%2C%20classification%2C%20translation%2C%20and%20more."
   ]
  },
  {
   "cell_type": "code",
   "execution_count": 2,
   "id": "f5a89438",
   "metadata": {},
   "outputs": [],
   "source": [
    "from textblob import TextBlob"
   ]
  },
  {
   "cell_type": "code",
   "execution_count": 3,
   "id": "79bac201",
   "metadata": {},
   "outputs": [],
   "source": [
    "review1=\"This food was great\"\n",
    "review2=\"Food was worst\""
   ]
  },
  {
   "cell_type": "code",
   "execution_count": 4,
   "id": "638e0a49",
   "metadata": {},
   "outputs": [],
   "source": [
    "blob1=TextBlob(review1)\n",
    "blob2=TextBlob(review2)"
   ]
  },
  {
   "cell_type": "code",
   "execution_count": 5,
   "id": "6dfc484b",
   "metadata": {},
   "outputs": [
    {
     "data": {
      "text/plain": [
       "Sentiment(polarity=0.8, subjectivity=0.75)"
      ]
     },
     "execution_count": 5,
     "metadata": {},
     "output_type": "execute_result"
    }
   ],
   "source": [
    "blob1.sentiment"
   ]
  },
  {
   "cell_type": "code",
   "execution_count": 6,
   "id": "428b5ede",
   "metadata": {
    "scrolled": true
   },
   "outputs": [
    {
     "data": {
      "text/plain": [
       "Sentiment(polarity=-1.0, subjectivity=1.0)"
      ]
     },
     "execution_count": 6,
     "metadata": {},
     "output_type": "execute_result"
    }
   ],
   "source": [
    "blob2.sentiment"
   ]
  },
  {
   "cell_type": "code",
   "execution_count": 8,
   "id": "a531f694",
   "metadata": {},
   "outputs": [],
   "source": [
    "blob3=TextBlob(\"I went home\")"
   ]
  },
  {
   "cell_type": "code",
   "execution_count": 9,
   "id": "71e6f6bb",
   "metadata": {},
   "outputs": [
    {
     "data": {
      "text/plain": [
       "Sentiment(polarity=0.0, subjectivity=0.0)"
      ]
     },
     "execution_count": 9,
     "metadata": {},
     "output_type": "execute_result"
    }
   ],
   "source": [
    "blob3.sentiment"
   ]
  }
 ],
 "metadata": {
  "kernelspec": {
   "display_name": "Python 3",
   "language": "python",
   "name": "python3"
  },
  "language_info": {
   "codemirror_mode": {
    "name": "ipython",
    "version": 3
   },
   "file_extension": ".py",
   "mimetype": "text/x-python",
   "name": "python",
   "nbconvert_exporter": "python",
   "pygments_lexer": "ipython3",
   "version": "3.8.8"
  }
 },
 "nbformat": 4,
 "nbformat_minor": 5
}
